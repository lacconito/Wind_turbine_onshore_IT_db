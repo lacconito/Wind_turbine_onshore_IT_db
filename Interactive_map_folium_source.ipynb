{
 "cells": [
  {
   "cell_type": "markdown",
   "id": "7a8bc51f",
   "metadata": {},
   "source": [
    "# INTERACTIVE MAPS WITH ITALIAN PARKS"
   ]
  },
  {
   "cell_type": "code",
   "execution_count": 1,
   "id": "445b51ca-c0e5-46dd-a245-4531671326df",
   "metadata": {},
   "outputs": [],
   "source": [
    "# Creation of the interactive map. Starting source from L. Acconito Thesis."
   ]
  },
  {
   "cell_type": "code",
   "execution_count": 2,
   "id": "c35ce96a-2daa-4c70-a137-cee8a35d422e",
   "metadata": {},
   "outputs": [
    {
     "name": "stdout",
     "output_type": "stream",
     "text": [
      "0.14.0\n"
     ]
    }
   ],
   "source": [
    "import folium \n",
    "print(folium.__version__)\n",
    "from folium.plugins import MarkerCluster\n",
    "import pandas as pd\n",
    "import branca\n",
    "from branca.element import MacroElement\n",
    "from jinja2 import Template\n",
    "import json"
   ]
  },
  {
   "cell_type": "markdown",
   "id": "da4c7662",
   "metadata": {},
   "source": [
    "STEP #1: Creiamo base maps with markers"
   ]
  },
  {
   "cell_type": "code",
   "execution_count": 3,
   "id": "a1b3e301",
   "metadata": {},
   "outputs": [],
   "source": [
    "#Creation of the basemap \n",
    "\n",
    "m = folium.Map(location = [43,12], zoom_start= 5.3 )  \n"
   ]
  },
  {
   "cell_type": "code",
   "execution_count": 4,
   "id": "08ad636d",
   "metadata": {},
   "outputs": [
    {
     "data": {
      "text/plain": [
       "<folium.raster_layers.TileLayer at 0x1e8536cd160>"
      ]
     },
     "execution_count": 4,
     "metadata": {},
     "output_type": "execute_result"
    }
   ],
   "source": [
    "# Tiles of the map customization\n",
    "# There are some default tiles by Folium and costum with the website leaflet-extras.github.io\n",
    "\n",
    "#1\n",
    "attr = (\n",
    "    'Tiles &copy; Esri &mdash; Source: Esri, i-cubed, USDA, USGS, AEX, GeoEye, Getmapping, Aerogrid, IGN, IGP, UPR-EGP, and the GIS User Community'\n",
    ")\n",
    "tiles = \"https://server.arcgisonline.com/ArcGIS/rest/services/World_Imagery/MapServer/tile/{z}/{y}/{x}\"\n",
    "folium.TileLayer(tiles=tiles, attr=attr, name=\"WorldImagery\").add_to(m)\n",
    "\n",
    "#2\n",
    "attr = (\n",
    "    '&copy; <a href=\"https://www.openstreetmap.org/copyright\">OpenStreetMap</a> contributors &copy; <a href=\"https://carto.com/attributions\">CARTO</a>'\n",
    ")\n",
    "tiles = \"https://{s}.basemaps.cartocdn.com/light_all/{z}/{x}/{y}{r}.png\"\n",
    "folium.TileLayer(tiles=tiles, attr=attr, name=\"CartoDB\").add_to(m)\n",
    "\n",
    "#3\n",
    "folium.TileLayer(\"OpenStreetMap\",show=False).add_to(m)\n",
    "\n",
    "# piece of code to check if the options are correctly implemented \n",
    "# Layer and visualization of the map\n",
    "# folium.LayerControl().add_to(m)\n",
    "# m"
   ]
  },
  {
   "cell_type": "code",
   "execution_count": 5,
   "id": "37d55a33",
   "metadata": {},
   "outputs": [
    {
     "data": {
      "text/plain": [
       "<folium.features.GeoJson at 0x1e85486ea20>"
      ]
     },
     "execution_count": 5,
     "metadata": {},
     "output_type": "execute_result"
    }
   ],
   "source": [
    "# Geographical boundaries - GeoJson file\n",
    "# \"show = False\" == not shown at the opening of the map\n",
    "folium.GeoJson(\"limits_IT_regions.geojson\", name = \"Regions borders\", show=False).add_to(m)\n",
    "folium.GeoJson(\"limits_IT_provinces.geojson\", name = \"Provinces bordes\", show=False).add_to(m)\n",
    "folium.GeoJson(\"limits_IT_municipalities.geojson\", name = \"Municipalities borders\", show=False).add_to(m)"
   ]
  },
  {
   "cell_type": "markdown",
   "id": "4f8e6068-bc87-451f-ba25-987eabc2ca48",
   "metadata": {},
   "source": [
    "STEP #2: Colormap base don the EF results of the 5 rated power"
   ]
  },
  {
   "cell_type": "code",
   "execution_count": 6,
   "id": "1ea32b48-2238-4392-a703-2465b748ae93",
   "metadata": {},
   "outputs": [],
   "source": [
    "# Opne the json file for assessing the region name of the file and store it"
   ]
  },
  {
   "cell_type": "code",
   "execution_count": 7,
   "id": "13781c1a",
   "metadata": {},
   "outputs": [],
   "source": [
    "with open ('limits_IT_regions.geojson') as f:\n",
    "    regioni_geojson = json.load(f)\n",
    "    \n",
    "regioni_geojson \n",
    "for item in regioni_geojson[\"features\"]:\n",
    "    item['regioni'] = item['properties']['reg_name']\n",
    "    #print(item['regioni'])\n"
   ]
  },
  {
   "cell_type": "code",
   "execution_count": 8,
   "id": "5a0d1c47-b332-484a-b0d7-ace30fd1989a",
   "metadata": {},
   "outputs": [],
   "source": [
    "# Read the excel file with tha table: emission factor per rated power, per region -> this average values are the one visualized in the colormap"
   ]
  },
  {
   "cell_type": "code",
   "execution_count": 9,
   "id": "6a9b176d",
   "metadata": {},
   "outputs": [],
   "source": [
    "regioni_ef=pd.read_excel(r'C:\\Users\\Relab\\OneDrive\\Desktop\\TESI\\Eolico\\Result\\Emission_factor.xlsx',\n",
    "                    'Regioni_maps', usecols='A:F')\n",
    "\n",
    "# regioni_ef"
   ]
  },
  {
   "cell_type": "code",
   "execution_count": 10,
   "id": "84dba12e",
   "metadata": {},
   "outputs": [],
   "source": [
    "# Colormap code"
   ]
  },
  {
   "cell_type": "code",
   "execution_count": 11,
   "id": "1340c551",
   "metadata": {},
   "outputs": [],
   "source": [
    "class BindColormap(MacroElement):\n",
    "    \"\"\"Binds a colormap to a given layer.\n",
    "\n",
    "    Parameters\n",
    "    ----------\n",
    "    colormap : branca.colormap.ColorMap\n",
    "        The colormap to bind.\n",
    "    \"\"\"\n",
    "    def __init__(self, layer, colormap):\n",
    "        super(BindColormap, self).__init__()\n",
    "        self.layer = layer\n",
    "        self.colormap = colormap\n",
    "        self._template = Template(u\"\"\"\n",
    "        {% macro script(this, kwargs) %}\n",
    "            {{this.colormap.get_name()}}.svg[0][0].style.display = 'block';\n",
    "            {{this._parent.get_name()}}.on('overlayadd', function (eventLayer) {\n",
    "                if (eventLayer.layer == {{this.layer.get_name()}}) {\n",
    "                    {{this.colormap.get_name()}}.svg[0][0].style.display = 'block';\n",
    "                }});\n",
    "            {{this._parent.get_name()}}.on('overlayremove', function (eventLayer) {\n",
    "                if (eventLayer.layer == {{this.layer.get_name()}}) {\n",
    "                    {{this.colormap.get_name()}}.svg[0][0].style.display = 'none';\n",
    "                }});\n",
    "        {% endmacro %}\n",
    "        \"\"\")"
   ]
  },
  {
   "cell_type": "markdown",
   "id": "ceadf9e2-5fed-4777-9497-6e539761d12f",
   "metadata": {},
   "source": [
    "STEP #3: Anemometers and Wind farms implementation"
   ]
  },
  {
   "cell_type": "code",
   "execution_count": 12,
   "id": "78d80d2e",
   "metadata": {},
   "outputs": [],
   "source": [
    "# Read the excel file with information on anemometer\n",
    "anemometer = pd.read_excel(r'C:\\Users\\Relab\\OneDrive\\Desktop\\PY_Thesis\\Impianti_new_version.xlsx',\n",
    "                    'PositionAnemMap', usecols='A:G')\n",
    "#anemometer"
   ]
  },
  {
   "cell_type": "code",
   "execution_count": 13,
   "id": "69e471c9",
   "metadata": {},
   "outputs": [],
   "source": [
    "# Creation of the anemometer icon\n",
    "anem_group = folium.FeatureGroup(name=\"Anemometers/epw files\", show = False).add_to(m)\n",
    "\n",
    "for index in range(len(anemometer)-1):\n",
    "    IconWT = folium.features.CustomIcon('C:/Users/Relab/OneDrive/Desktop/TESI/Eolico/Maps/Picture_anem2.png', icon_size =(20,30))\n",
    "    iframe = folium.IFrame(\"<h2><b>\"+str(anemometer.at[index,'Anem']) +\"</b></h2>\" +\"<br>\"+\"<b>Elevation : </b> \"+str(anemometer.at[index,'Elevation_anem'])+\"m\" +\"<br>\"+\"<b>Average velocity : </b> \"+str(anemometer.at[index,'V_mean_anem']) + \"m/s\")\n",
    "    PopupWT = folium.Popup(iframe, min_width=300, max_width=300)\n",
    "    anem_group.add_child(folium.Marker(location= [anemometer.at[index,'N'],anemometer.at[index,'E']],\n",
    "                  popup = PopupWT,\n",
    "                  tooltip='Anemometer',\n",
    "                  icon = IconWT\n",
    "                ))\n",
    "    \n",
    "#folium.LayerControl().add_to(m)"
   ]
  },
  {
   "cell_type": "code",
   "execution_count": 14,
   "id": "03af1355",
   "metadata": {
    "scrolled": true
   },
   "outputs": [],
   "source": [
    "# Read the Excel file with wind farms information\n",
    "Excel=pd.read_excel(r'C:\\Users\\Relab\\OneDrive\\Desktop\\PY_Thesis\\Impianti_new_version.xlsx',\n",
    "                    'Maps_park_copy', usecols='A:N')\n",
    "#Excel"
   ]
  },
  {
   "cell_type": "code",
   "execution_count": 15,
   "id": "82d0048e",
   "metadata": {},
   "outputs": [],
   "source": [
    "########### With this piece of code there is not the clusters with the visualization of the farms grouped when zoom in/out\n",
    "\n",
    "# Creation of the layer (i) all italian farms (default visualization) \n",
    "#WT_total_group = folium.FeatureGroup(name=\"Parks in ITALY\").add_to(m)\n",
    "\n",
    "#for index in range(len(Excel)-1):\n",
    "#    IconWT = folium.features.CustomIcon('C:/Users/Relab/OneDrive/Desktop/TESI/Eolico/Maps/Picture_wind.png', icon_size =(20,30))\n",
    "#    iframe = folium.IFrame(\"<h2><b>\"+str(Excel.at[index,'Location']) +\"</b></h2>\" +\"<br>\"+\"<b>Number of WT : </b> \"+str(Excel.at[index,'N_WT']) +\"<br>\"+\"<b>Model of WT : </b> \"+str(Excel.at[index,'Model'])  +\"<br>\"+\"<b>Total power installed : </b> \"+str(Excel.at[index,'P_tot']) + \"MW\"+\"<br>\"+\"<b>Yearly productivity  : </b> \"+str(Excel.at[index,'Power_cs_park']) + \"MWh\"+\"<br>\"+\"<b>Equivalent hours  : </b> \"+str(Excel.at[index,'Eq_h']) + \"h\")\n",
    "#    PopupWT = folium.Popup(iframe, min_width=300, max_width=300)\n",
    "#    WT_total_group.add_child(folium.Marker(location= [Excel.at[index,'N'],Excel.at[index,'E']],\n",
    "#                  popup = PopupWT,\n",
    "#                  tooltip=[Excel.at[index,'Location']],\n",
    "#                  icon = IconWT\n",
    "#                ))\n"
   ]
  },
  {
   "cell_type": "code",
   "execution_count": 16,
   "id": "b0324f81-55d8-491c-acc8-03680711d548",
   "metadata": {},
   "outputs": [],
   "source": [
    "# Creation of the layer (i) all italian farms (default visualization) \n",
    "# Create a MarkerCluster for wind turbines\n",
    "WT_cluster = MarkerCluster(name=\"Parks in ITALY\").add_to(m)\n",
    "\n",
    "for index in range(len(Excel) - 1):\n",
    "    # Create a custom icon for wind turbines\n",
    "    IconWT = folium.features.CustomIcon(\n",
    "        'C:/Users/Relab/OneDrive/Desktop/TESI/Eolico/Maps/Picture_wind.png',\n",
    "        icon_size=(20, 30)\n",
    "    )\n",
    "    \n",
    "    # Create a popup for the wind turbine information\n",
    "    iframe = folium.IFrame(\n",
    "        f\"<h2><b>{Excel.at[index, 'Location']}</b></h2>\"\n",
    "        f\"<br><b>Number of WT: </b> {Excel.at[index, 'N_WT']}\"\n",
    "        f\"<br><b>Model of WT: </b> {Excel.at[index, 'Model']}\"\n",
    "        f\"<br><b>Total power installed: </b> {Excel.at[index, 'P_tot']} MW\"\n",
    "        f\"<br><b>Yearly productivity: </b> {Excel.at[index, 'Power_cs_park']} MWh\"\n",
    "        f\"<br><b>Equivalent hours: </b> {Excel.at[index, 'Eq_h']} h\"\n",
    "    )\n",
    "    PopupWT = folium.Popup(iframe, min_width=300, max_width=300)\n",
    "\n",
    "    # Add each marker to the cluster\n",
    "    folium.Marker(\n",
    "        location=[Excel.at[index, 'N'], Excel.at[index, 'E']],\n",
    "        popup=PopupWT,\n",
    "        tooltip=Excel.at[index, 'Location'],\n",
    "        icon=IconWT\n",
    "    ).add_to(WT_cluster)\n"
   ]
  },
  {
   "cell_type": "code",
   "execution_count": 17,
   "id": "309b99b8-83b2-4458-b981-20ae9ff3dc52",
   "metadata": {},
   "outputs": [],
   "source": [
    "# Creation of the layer (ii) region-specific wind farms (w/out the MarkerCluster)\n",
    "Regions = ['Piemonte','Valle Aosta','Trentino','Veneto','Liguria', 'Emilia Romagna','Marche',\n",
    "          'Umbria','Toscana','Lazio','Molise','Sardegna','Abruzzo', 'Calabria', 'Basilicata',\n",
    "          'Sicilia','Puglia','Campania']\n",
    "\n",
    "for region in Regions:\n",
    "    Regione_on = list()\n",
    "    for index in range(len(Excel)-1):\n",
    "        if Excel.Region[index] ==  region: \n",
    "            #entra ogni volta e crea un gruppo ogni volta\n",
    "            # devo inserire come i punti (location) nella source - https://stackoverflow.com/questions/55344513/add-menu-bar-on-folium-map-to-select-or-deselect-particular-object-marker\n",
    "            Regione_on.append([Excel.at[index,'N'],Excel.at[index,'E']])\n",
    "   \n",
    "    WTs = folium.FeatureGroup(name=f\"Parks in {region}\", show=False).add_to(m)\n",
    "\n",
    "    for loc in Regione_on:\n",
    "        IconWT = folium.features.CustomIcon('C:/Users/Relab/OneDrive/Desktop/TESI/Eolico/Maps/Picture_wind.png', icon_size =(20,30))\n",
    "        iframe = folium.IFrame(\"<h2><b>\"+str(Excel.at[index,'Location']) +\"</b></h2>\" +\"<br>\"+\"<b>Number of WT : </b> \"+str(Excel.at[index,'N_WT']) +\"<br>\"+\"<b>Model of WT : </b> \"+str(Excel.at[index,'Model'])  +\"<br>\"+\"<b>Total power installed : </b> \"+str(Excel.at[index,'P_tot']) + \"MW\"+\"<br>\"+\"<b>Park yearly productivity  : </b> \"+str(Excel.at[index,'Power_cs_park']) + \"MWh\")\n",
    "        PopupWT = folium.Popup(iframe, min_width=300, max_width=300)\n",
    "        WTs.add_child(folium.Marker(location= loc,\n",
    "                      popup = PopupWT,\n",
    "                      tooltip=[Excel.at[index,'Location']],\n",
    "                      icon = IconWT\n",
    "                    ))\n",
    "        \n"
   ]
  },
  {
   "cell_type": "code",
   "execution_count": 18,
   "id": "4a04e6c1-8c72-4565-81ed-f5ad11c55028",
   "metadata": {},
   "outputs": [
    {
     "data": {
      "text/plain": [
       "<folium.map.LayerControl at 0x1e863c09d00>"
      ]
     },
     "execution_count": 18,
     "metadata": {},
     "output_type": "execute_result"
    }
   ],
   "source": [
    "# add the layers (all the previous option are reported in this layer)    \n",
    "folium.LayerControl().add_to(m)"
   ]
  },
  {
   "cell_type": "code",
   "execution_count": 19,
   "id": "9ab0ed9e",
   "metadata": {
    "scrolled": true
   },
   "outputs": [
    {
     "data": {
      "text/plain": [
       "<branca.element.Element at 0x1e853af7050>"
      ]
     },
     "execution_count": 19,
     "metadata": {},
     "output_type": "execute_result"
    }
   ],
   "source": [
    "# add the legend, bottom left \n",
    "m.get_root().html.add_child(folium.Element(\"\"\"\n",
    "<div style=\"position: fixed; \n",
    "     bottom: 10px; left: 10px; width: 150px; height: 90px; \n",
    "      background-color:#E5E4E2; border:2px solid grey;z-index: 99999; font-size 12px;\">\n",
    "    Legend <br>\n",
    "    Wind Farm  <i class=\"fa fa-map-marker fa-2x\" style=\"color:#004386\"></i><br>\n",
    "    Anemometer <i class=\"fa fa-map-marker fa-2x\" style=\"color:#DB873A\"></i><br>\n",
    "</div>\n",
    "\"\"\"))\n",
    "#Source\n",
    "#https://nagasudhir.blogspot.com/2021/08/inject-html-into-python-folium-maps.html\n",
    "#https://www.datasciencecentral.com/fun-with-maps-part-2/"
   ]
  },
  {
   "cell_type": "markdown",
   "id": "5715929b-aea3-4e19-826d-7b1ebbb01bea",
   "metadata": {},
   "source": [
    "STEP #4: add title in the map"
   ]
  },
  {
   "cell_type": "code",
   "execution_count": 20,
   "id": "653f71cb-d002-4bf0-9d3c-f779d94802af",
   "metadata": {},
   "outputs": [
    {
     "data": {
      "text/plain": [
       "<branca.element.Element at 0x1e853af7050>"
      ]
     },
     "execution_count": 20,
     "metadata": {},
     "output_type": "execute_result"
    }
   ],
   "source": [
    "from branca.element import Element\n",
    "\n",
    "# Custom top banner HTML and CSS\n",
    "header_html = \"\"\"\n",
    "<style>\n",
    "    .top-banner {\n",
    "        position: fixed;\n",
    "        top: 0;\n",
    "        left: 0;\n",
    "        width: 100%;\n",
    "        height: 50px;\n",
    "        background-color: #033E3E;\n",
    "        color: white;\n",
    "        font-size: 20px;\n",
    "        font-weight: bold;\n",
    "        font-family: 'Aptos', sans-serif;\n",
    "        line-height: 50px;\n",
    "        padding-left: 20px;\n",
    "        z-index: 9999;\n",
    "        box-shadow: 0 2px 5px rgba(0,0,0,0.3);\n",
    "    }\n",
    "\n",
    "    body {\n",
    "        padding-top: 50px; /* Push the map down below the banner */\n",
    "    }\n",
    "</style>\n",
    "\n",
    "<div class=\"top-banner\">\n",
    "    Italian Onshore Wind Turbines Database\n",
    "</div>\n",
    "\"\"\"\n",
    "\n",
    "# Inject header into the map\n",
    "header_element = Element(header_html)\n",
    "m.get_root().html.add_child(header_element)\n",
    "\n",
    "# Save to HTML\n",
    "#m.save(\"wind_map_with_banner.html\")"
   ]
  },
  {
   "cell_type": "markdown",
   "id": "6455cea6-a5fe-45d7-aedf-83bdb0ed087c",
   "metadata": {},
   "source": [
    "STEP #5: Save the map (.html file)"
   ]
  },
  {
   "cell_type": "code",
   "execution_count": 21,
   "id": "831af3b9",
   "metadata": {},
   "outputs": [],
   "source": [
    "# .html file saving \n",
    "# by default saved in the code folder\n",
    "\n",
    "m.save(\"ItalyWindTurbineDb.html\") "
   ]
  }
 ],
 "metadata": {
  "kernelspec": {
   "display_name": "Python 3 (ipykernel)",
   "language": "python",
   "name": "python3"
  },
  "language_info": {
   "codemirror_mode": {
    "name": "ipython",
    "version": 3
   },
   "file_extension": ".py",
   "mimetype": "text/x-python",
   "name": "python",
   "nbconvert_exporter": "python",
   "pygments_lexer": "ipython3",
   "version": "3.12.2"
  }
 },
 "nbformat": 4,
 "nbformat_minor": 5
}
